{
 "cells": [
  {
   "cell_type": "code",
   "execution_count": 3,
   "metadata": {},
   "outputs": [
    {
     "name": "stdout",
     "output_type": "stream",
     "text": [
      "Day 1 - String Manipulation\n",
      "String Concatenation is done with the \"+\"/ sign.\n",
      "e.g. print(\"Hello \" + \"world\")\n",
      "New lines can be created with a backslash and n.\n"
     ]
    }
   ],
   "source": [
    "#Fix the code below 👇\n",
    "\n",
    "print(\"Day 1 - String Manipulation\")\n",
    "print('String Concatenation is done with the \"+\"/ sign.')\n",
    "print('e.g. print(\"Hello \" + \"world\")')\n",
    "print(\"New lines can be created with a backslash and n.\")\n",
    "\n",
    "\n"
   ]
  },
  {
   "cell_type": "code",
   "execution_count": 1,
   "metadata": {},
   "outputs": [
    {
     "name": "stdout",
     "output_type": "stream",
     "text": [
      "1\n",
      "2\n",
      "3\n",
      "['cherry', 'orange', 'kiwi']\n",
      "['apple', 'banana', 'cherry', 'orange', 'kiwi', 'melon']\n",
      "['banana']\n"
     ]
    }
   ],
   "source": [
    "#Array\n",
    "\n",
    "import array as arr\n",
    "\n",
    "a= arr.array('i',[1,2,3])\n",
    "for i in range(0,3):\n",
    "    print(a[i])\n",
    "\n",
    "thislist = [\"apple\", \"banana\", \"cherry\", \"orange\", \"kiwi\", \"melon\", \"mango\"]\n",
    "cars = [\"Ford\", \"Volvo\", \"BMW\"]\n",
    "print(thislist[2:5]) # 5th index -1 always remember\n",
    "print(thislist[:-1]) #it will not print mango here \n",
    "print(thislist[1:2])  \n"
   ]
  },
  {
   "cell_type": "code",
   "execution_count": 14,
   "metadata": {},
   "outputs": [
    {
     "name": "stdout",
     "output_type": "stream",
     "text": [
      "[6, 5, 4, 3, 2, 1]\n",
      "largest number would be 6\n",
      "6\n"
     ]
    }
   ],
   "source": [
    "num = [ 1, 2, 3, 4 ,5]\n",
    "num.append(6)\n",
    "\n",
    "num.sort(reverse=True)\n",
    "print(num)\n",
    "print(f\"largest number would be {num[0]}\")\n",
    "print(max(num))"
   ]
  },
  {
   "cell_type": "code",
   "execution_count": 21,
   "metadata": {},
   "outputs": [
    {
     "name": "stdout",
     "output_type": "stream",
     "text": [
      "[6, 5, 4, 3, 2, 1]\n"
     ]
    },
    {
     "ename": "TypeError",
     "evalue": "can only concatenate list (not \"str\") to list",
     "output_type": "error",
     "traceback": [
      "\u001b[1;31m---------------------------------------------------------------------------\u001b[0m",
      "\u001b[1;31mTypeError\u001b[0m                                 Traceback (most recent call last)",
      "Cell \u001b[1;32mIn [21], line 5\u001b[0m\n\u001b[0;32m      3\u001b[0m num\u001b[39m.\u001b[39mremove(\u001b[39mmax\u001b[39m(num))\n\u001b[0;32m      4\u001b[0m \u001b[39mprint\u001b[39m(num)\n\u001b[1;32m----> 5\u001b[0m \u001b[39mprint\u001b[39m(num\u001b[39m+\u001b[39;49m\u001b[39m\"\u001b[39;49m\u001b[39m1\u001b[39;49m\u001b[39m\"\u001b[39;49m)\n",
      "\u001b[1;31mTypeError\u001b[0m: can only concatenate list (not \"str\") to list"
     ]
    }
   ],
   "source": [
    "num = [ 1, 2, 3, 4 ,5,6,6]\n",
    "num.sort(reverse=True)\n",
    "num.remove(max(num))\n",
    "print(num)\n"
   ]
  },
  {
   "cell_type": "code",
   "execution_count": 6,
   "metadata": {},
   "outputs": [
    {
     "name": "stdout",
     "output_type": "stream",
     "text": [
      "<class 'dict'>\n"
     ]
    }
   ],
   "source": [
    "#dictionary : has key and value \n",
    "# keys cannot be duplciated  \n",
    "dict1={1:'word' , 2:'another'}\n",
    "\n",
    "print(type(dict1))"
   ]
  },
  {
   "cell_type": "code",
   "execution_count": 8,
   "metadata": {},
   "outputs": [
    {
     "data": {
      "text/plain": [
       "'word'"
      ]
     },
     "execution_count": 8,
     "metadata": {},
     "output_type": "execute_result"
    }
   ],
   "source": [
    "dict1[1]"
   ]
  },
  {
   "cell_type": "code",
   "execution_count": 10,
   "metadata": {},
   "outputs": [],
   "source": [
    "# how to add \n",
    "dict1['new']='new added'"
   ]
  },
  {
   "cell_type": "code",
   "execution_count": 11,
   "metadata": {},
   "outputs": [
    {
     "data": {
      "text/plain": [
       "{1: 'word', 2: 'another', 'new': 'new added'}"
      ]
     },
     "execution_count": 11,
     "metadata": {},
     "output_type": "execute_result"
    }
   ],
   "source": [
    "dict1"
   ]
  },
  {
   "cell_type": "code",
   "execution_count": 14,
   "metadata": {},
   "outputs": [
    {
     "name": "stdout",
     "output_type": "stream",
     "text": [
      "1\n",
      "word\n",
      "2\n",
      "another\n",
      "new\n",
      "new added\n"
     ]
    }
   ],
   "source": [
    "# dictionary looping \n",
    "\n",
    "\n",
    "for i in dict1:\n",
    "    print(i)\n",
    "    print(dict1[i])\n"
   ]
  },
  {
   "cell_type": "code",
   "execution_count": 15,
   "metadata": {},
   "outputs": [],
   "source": [
    "list1=[1,2,3,4,5]\n"
   ]
  },
  {
   "cell_type": "code",
   "execution_count": 39,
   "metadata": {},
   "outputs": [],
   "source": [
    "list1.insert(1,88)\n"
   ]
  },
  {
   "cell_type": "code",
   "execution_count": 40,
   "metadata": {},
   "outputs": [
    {
     "data": {
      "text/plain": [
       "[1, 88, 2, 3, 1, 4, 5, [1], [1], [1], 3, 1, 1, 9]"
      ]
     },
     "execution_count": 40,
     "metadata": {},
     "output_type": "execute_result"
    }
   ],
   "source": [
    "list1"
   ]
  },
  {
   "cell_type": "code",
   "execution_count": 41,
   "metadata": {},
   "outputs": [],
   "source": [
    " student_scores = {\n",
    "  \"Harry\": 81,\n",
    "  \"Ron\": 78,\n",
    "  \"Hermione\": 99, \n",
    "  \"Draco\": 74,\n",
    "  \"Neville\": 62,\n",
    "}"
   ]
  },
  {
   "cell_type": "code",
   "execution_count": 47,
   "metadata": {},
   "outputs": [
    {
     "name": "stdout",
     "output_type": "stream",
     "text": [
      "Harry - fail\n",
      "Ron - acceptable\n",
      "Hermione - Ourstanding\n",
      "Draco - acceptable\n",
      "Neville - fail\n"
     ]
    }
   ],
   "source": [
    "def score_aggregator(x):\n",
    "    if x > 91 :\n",
    "       return 'Ourstanding'\n",
    "    elif (x >81) & (x<=90):\n",
    "        return 'Exeeds expectation'\n",
    "    elif (x >71) & (x<=80):\n",
    "        return 'acceptable'\n",
    "    else :\n",
    "        return 'fail'\n",
    "\n",
    "for i in student_scores:\n",
    "    print(f'{i} - {score_aggregator(student_scores[i])}')\n",
    "        "
   ]
  },
  {
   "cell_type": "code",
   "execution_count": 48,
   "metadata": {},
   "outputs": [],
   "source": [
    "# Nesting in dictionary and list "
   ]
  },
  {
   "cell_type": "code",
   "execution_count": 1,
   "metadata": {},
   "outputs": [],
   "source": [
    "\n",
    "travel_log = [\n",
    "{\n",
    "  \"country\": \"France\", \n",
    "  \"cities_visited\": [\"Paris\", \"Lille\", \"Dijon\"], \n",
    "  \"total_visits\": 12,\n",
    "},\n",
    "{\n",
    "  \"country\": \"Germany\",\n",
    "  \"cities_visited\": [\"Berlin\", \"Hamburg\", \"Stuttgart\"],\n",
    "  \"total_visits\": 5,\n",
    "},\n",
    "] "
   ]
  },
  {
   "cell_type": "code",
   "execution_count": 5,
   "metadata": {},
   "outputs": [],
   "source": [
    "travel_log.append({\"country\": \"Russia\",\n",
    "  \"cities_visited\": [\"Moscow\", \"Pettersburg\"],\n",
    "  \"total_visits\": 5,})"
   ]
  },
  {
   "cell_type": "code",
   "execution_count": 14,
   "metadata": {},
   "outputs": [],
   "source": [
    "def addnewcountry(name , cities_visited , total_visits):\n",
    "    newcountry={}\n",
    "    newcountry[\"country\"]=name \n",
    "    newcountry['cities_visited']=cities_visited \n",
    "    newcountry['total_vists']=total_visits\n",
    "    travel_log.append(newcountry)\n",
    "\n"
   ]
  },
  {
   "cell_type": "code",
   "execution_count": 15,
   "metadata": {},
   "outputs": [],
   "source": [
    "addnewcountry('USA',['new york','california','Los angles','Miami'],13)"
   ]
  },
  {
   "cell_type": "code",
   "execution_count": 16,
   "metadata": {},
   "outputs": [
    {
     "data": {
      "text/plain": [
       "[{'country': 'France',\n",
       "  'cities_visited': ['Paris', 'Lille', 'Dijon'],\n",
       "  'total_visits': 12},\n",
       " {'country': 'Germany',\n",
       "  'cities_visited': ['Berlin', 'Hamburg', 'Stuttgart'],\n",
       "  'total_visits': 5},\n",
       " {'country': 'Russia',\n",
       "  'cities_visited': ['Moscow', 'Pettersburg'],\n",
       "  'total_visits': 5},\n",
       " {'country': 'USA',\n",
       "  'cities_visited': ['new york', 'california', 'Los angles', 'Miami'],\n",
       "  'total_vists': 13}]"
      ]
     },
     "execution_count": 16,
     "metadata": {},
     "output_type": "execute_result"
    }
   ],
   "source": [
    "travel_log"
   ]
  },
  {
   "cell_type": "code",
   "execution_count": 32,
   "metadata": {},
   "outputs": [
    {
     "name": "stdout",
     "output_type": "stream",
     "text": [
      "None\n"
     ]
    }
   ],
   "source": [
    "def add(new , new1):\n",
    "    return new + new1\n",
    "\n",
    "add(add(1,2),add(3,4))\n",
    "\n",
    "def name(fname,lname):\n",
    "    if fname ==\"\" and lname==\"\":\n",
    "        return\n",
    "    else:\n",
    "        return f'Full name is =>{fname.title()} {lname.title()}'\n",
    "\n",
    "print(name(input('give a first name'),input('give second name ')))\n",
    "    "
   ]
  },
  {
   "cell_type": "code",
   "execution_count": 3,
   "metadata": {},
   "outputs": [
    {
     "ename": "SyntaxError",
     "evalue": "unterminated string literal (detected at line 5) (961730206.py, line 5)",
     "output_type": "error",
     "traceback": [
      "\u001b[1;36m  Cell \u001b[1;32mIn [3], line 5\u001b[1;36m\u001b[0m\n\u001b[1;33m    at='asda\u001b[0m\n\u001b[1;37m       ^\u001b[0m\n\u001b[1;31mSyntaxError\u001b[0m\u001b[1;31m:\u001b[0m unterminated string literal (detected at line 5)\n"
     ]
    }
   ],
   "source": [
    "# docstrings \n",
    "a=\"\"\"\" we can write multiline \n",
    "string that we cannot do it in the normal\"\"\" \n",
    "print(a)\n",
    "at='asda\n",
    "asdasd\n",
    "asdasd'\n",
    "print(at)"
   ]
  },
  {
   "cell_type": "code",
   "execution_count": 9,
   "metadata": {},
   "outputs": [
    {
     "name": "stdout",
     "output_type": "stream",
     "text": [
      "12 * 10 = 120\n",
      "10 - 10 = 0\n"
     ]
    }
   ],
   "source": [
    "\n",
    "def Multiply(a,b):\n",
    "    return a*b\n",
    "def Add(a,b):\n",
    "    return a+b\n",
    "def Subtract(a,b):\n",
    "    return a-b\n",
    "def Divide(a,b):\n",
    "    return a/b\n",
    "\n",
    "dict1 ={\n",
    "    \"*\":Multiply , \n",
    "    \"+\":Add , \n",
    "    \"-\":Subtract ,\n",
    "    \"/\":Divide \n",
    "}\n",
    "\n",
    "\n",
    "temp = True\n",
    "while temp : \n",
    "    a=int(input('Whats the first number'))\n",
    "    b=int(input('Whats the second number'))\n",
    "    op=input('Pick an operation * + / -')\n",
    "    funct = dict1[op]\n",
    "    print(f\"{a} {op} {b} = {funct(a,b)}\")\n",
    "    dec=input(\"Type 'y' continue calclulation if not 'n' \")\n",
    "    if (dec=='n') | (dec=='N') :\n",
    "        temp = False \n",
    "        break \n",
    "        "
   ]
  },
  {
   "cell_type": "code",
   "execution_count": 13,
   "metadata": {},
   "outputs": [
    {
     "ename": "SyntaxError",
     "evalue": "invalid syntax (1376882289.py, line 3)",
     "output_type": "error",
     "traceback": [
      "\u001b[1;36m  Cell \u001b[1;32mIn [13], line 3\u001b[1;36m\u001b[0m\n\u001b[1;33m    global num_of_potions =3\u001b[0m\n\u001b[1;37m                          ^\u001b[0m\n\u001b[1;31mSyntaxError\u001b[0m\u001b[1;31m:\u001b[0m invalid syntax\n"
     ]
    }
   ],
   "source": [
    "num_of_potions=3\n",
    "def newpotion(): \n",
    "    global num_of_potions =3\n",
    "    print(num_of_potions)\n",
    "    \n",
    "print(num_of_potions)"
   ]
  },
  {
   "cell_type": "code",
   "execution_count": 24,
   "metadata": {},
   "outputs": [
    {
     "name": "stdout",
     "output_type": "stream",
     "text": [
      "12\n"
     ]
    }
   ],
   "source": [
    "# global Scoping \n",
    "a=11\n",
    "def increase_funct():\n",
    "    global a\n",
    "    a=a+1\n",
    "    print(a)\n",
    "    \n",
    "def new_funct():\n",
    "    print(a+1)\n",
    "\n",
    "new_funct()"
   ]
  },
  {
   "cell_type": "code",
   "execution_count": 25,
   "metadata": {},
   "outputs": [
    {
     "name": "stdout",
     "output_type": "stream",
     "text": [
      "3.12\n"
     ]
    }
   ],
   "source": [
    "# you can fix the constants with uppercasing \n",
    "PI = 3.1432\n",
    "\n",
    "def change():\n",
    "    PI = 3.12\n",
    "    print(PI)\n",
    "    \n",
    "change()"
   ]
  },
  {
   "cell_type": "code",
   "execution_count": 37,
   "metadata": {},
   "outputs": [
    {
     "name": "stdout",
     "output_type": "stream",
     "text": [
      "welcome to the number guessing game\n",
      "thinking of a numebr between 1 and 100 \n",
      "you have 5 remaining to guess the number\n"
     ]
    },
    {
     "ename": "ValueError",
     "evalue": "invalid literal for int() with base 10: 'eas'",
     "output_type": "error",
     "traceback": [
      "\u001b[1;31m---------------------------------------------------------------------------\u001b[0m",
      "\u001b[1;31mValueError\u001b[0m                                Traceback (most recent call last)",
      "Cell \u001b[1;32mIn [37], line 16\u001b[0m\n\u001b[0;32m     14\u001b[0m \u001b[39mwhile\u001b[39;00m attempts\u001b[39m>\u001b[39m\u001b[39m0\u001b[39m:\n\u001b[0;32m     15\u001b[0m     \u001b[39mprint\u001b[39m(\u001b[39mf\u001b[39m\u001b[39m'\u001b[39m\u001b[39myou have \u001b[39m\u001b[39m{\u001b[39;00mattempts\u001b[39m}\u001b[39;00m\u001b[39m remaining to guess the number\u001b[39m\u001b[39m'\u001b[39m)\n\u001b[1;32m---> 16\u001b[0m     guess\u001b[39m=\u001b[39m\u001b[39mint\u001b[39;49m(\u001b[39minput\u001b[39;49m(\u001b[39m'\u001b[39;49m\u001b[39mGuess the number : \u001b[39;49m\u001b[39m'\u001b[39;49m))\n\u001b[0;32m     17\u001b[0m     \u001b[39mif\u001b[39;00m guess \u001b[39m==\u001b[39m number:\n\u001b[0;32m     18\u001b[0m         \u001b[39mprint\u001b[39m(\u001b[39mf\u001b[39m\u001b[39m\"\u001b[39m\u001b[39mCongratulations you have guessed it ! the number is \u001b[39m\u001b[39m{\u001b[39;00mnumber\u001b[39m}\u001b[39;00m\u001b[39m\"\u001b[39m)\n",
      "\u001b[1;31mValueError\u001b[0m: invalid literal for int() with base 10: 'eas'"
     ]
    }
   ],
   "source": [
    "# guessing the number \n",
    "\n",
    "import random\n",
    "\n",
    "number=random.randint(1,100)\n",
    "diff=input(\"Choose a difficulty ,'easy' or 'hard' : \")\n",
    "\n",
    "if diff=='easy':\n",
    "    attempts = 10\n",
    "else :\n",
    "    attempts=5\n",
    "\n",
    "gameon = True\n",
    "print(\"welcome to the number guessing game\")\n",
    "print(\"thinking of a numebr between 1 and 100 \")\n",
    "while attempts>0:\n",
    "    print(f'you have {attempts} remaining to guess the number')\n",
    "    guess=int(input('Guess the number : '))\n",
    "    if guess == number:\n",
    "        print(f\"Congratulations you have guessed it ! the number is {number}\")\n",
    "        attempts=0\n",
    "        break \n",
    "    else : \n",
    "        attempts -=1\n",
    "        if guess > number :\n",
    "            print('too high') \n",
    "        else: \n",
    "            print('too low ')\n",
    "    if attempts == 0 : \n",
    "        print(f'The correct answer was {number}')\n",
    "    "
   ]
  },
  {
   "cell_type": "code",
   "execution_count": 95,
   "metadata": {},
   "outputs": [
    {
     "name": "stdout",
     "output_type": "stream",
     "text": [
      "You can drive at age 22.\n"
     ]
    }
   ],
   "source": [
    "age = int(input(\"How old are you?\"))\n",
    "if age > 18:\n",
    "    print(f\"You can drive at age {age}.\")"
   ]
  },
  {
   "cell_type": "code",
   "execution_count": 97,
   "metadata": {},
   "outputs": [
    {
     "name": "stdout",
     "output_type": "stream",
     "text": [
      "[2, 4, 6, 10, 16, 26]\n"
     ]
    }
   ],
   "source": [
    "def mutate(a_list):\n",
    "  b_list = []\n",
    "  for item in a_list:\n",
    "    new_item = item * 2\n",
    "    b_list.append(new_item)\n",
    "  print(b_list)\n",
    "\n",
    "mutate([1,2,3,5,8,13])"
   ]
  },
  {
   "cell_type": "code",
   "execution_count": 3,
   "metadata": {},
   "outputs": [],
   "source": [
    "data = [\n",
    "    {\n",
    "        'name': 'Instagram',\n",
    "        'follower_count': 346,\n",
    "        'description': 'Social media platform',\n",
    "        'country': 'United States'\n",
    "    },\n",
    "    {\n",
    "        'name': 'Cristiano Ronaldo',\n",
    "        'follower_count': 215,\n",
    "        'description': 'Footballer',\n",
    "        'country': 'Portugal'\n",
    "    },\n",
    "    {\n",
    "        'name': 'Ariana Grande',\n",
    "        'follower_count': 183,\n",
    "        'description': 'Musician and actress',\n",
    "        'country': 'United States'\n",
    "    },\n",
    "    {\n",
    "        'name': 'Dwayne Johnson',\n",
    "        'follower_count': 181,\n",
    "        'description': 'Actor and professional wrestler',\n",
    "        'country': 'United States'\n",
    "    },\n",
    "    {\n",
    "        'name': 'Selena Gomez',\n",
    "        'follower_count': 174,\n",
    "        'description': 'Musician and actress',\n",
    "        'country': 'United States'\n",
    "    },\n",
    "    {\n",
    "        'name': 'Kylie Jenner',\n",
    "        'follower_count': 172,\n",
    "        'description': 'Reality TV personality and businesswoman and Self-Made Billionaire',\n",
    "        'country': 'United States'\n",
    "    },\n",
    "    {\n",
    "        'name': 'Kim Kardashian',\n",
    "        'follower_count': 167,\n",
    "        'description': 'Reality TV personality and businesswoman',\n",
    "        'country': 'United States'\n",
    "    },\n",
    "    {\n",
    "        'name': 'Lionel Messi',\n",
    "        'follower_count': 149,\n",
    "        'description': 'Footballer',\n",
    "        'country': 'Argentina'\n",
    "    },\n",
    "    {\n",
    "        'name': 'Beyoncé',\n",
    "        'follower_count': 145,\n",
    "        'description': 'Musician',\n",
    "        'country': 'United States'\n",
    "    },\n",
    "    {\n",
    "        'name': 'Neymar',\n",
    "        'follower_count': 138,\n",
    "        'description': 'Footballer',\n",
    "        'country': 'Brasil'\n",
    "    },\n",
    "    {\n",
    "        'name': 'National Geographic',\n",
    "        'follower_count': 135,\n",
    "        'description': 'Magazine',\n",
    "        'country': 'United States'\n",
    "    },\n",
    "    {\n",
    "        'name': 'Justin Bieber',\n",
    "        'follower_count': 133,\n",
    "        'description': 'Musician',\n",
    "        'country': 'Canada'\n",
    "    },\n",
    "    {\n",
    "        'name': 'Taylor Swift',\n",
    "        'follower_count': 131,\n",
    "        'description': 'Musician',\n",
    "        'country': 'United States'\n",
    "    },\n",
    "    {\n",
    "        'name': 'Kendall Jenner',\n",
    "        'follower_count': 127,\n",
    "        'description': 'Reality TV personality and Model',\n",
    "        'country': 'United States'\n",
    "    },\n",
    "    {\n",
    "        'name': 'Jennifer Lopez',\n",
    "        'follower_count': 119,\n",
    "        'description': 'Musician and actress',\n",
    "        'country': 'United States'\n",
    "    },\n",
    "    {\n",
    "        'name': 'Nicki Minaj',\n",
    "        'follower_count': 113,\n",
    "        'description': 'Musician',\n",
    "        'country': 'Trinidad and Tobago'\n",
    "    },\n",
    "    {\n",
    "        'name': 'Nike',\n",
    "        'follower_count': 109,\n",
    "        'description': 'Sportswear multinational',\n",
    "        'country': 'United States'\n",
    "    },\n",
    "    {\n",
    "        'name': 'Khloé Kardashian',\n",
    "        'follower_count': 108,\n",
    "        'description': 'Reality TV personality and businesswoman',\n",
    "        'country': 'United States'\n",
    "    },\n",
    "    {\n",
    "        'name': 'Miley Cyrus',\n",
    "        'follower_count': 107,\n",
    "        'description': 'Musician and actress',\n",
    "        'country': 'United States'\n",
    "    },\n",
    "    {\n",
    "        'name': 'Katy Perry',\n",
    "        'follower_count': 94,\n",
    "        'description': 'Musician',\n",
    "        'country': 'United States'\n",
    "    },\n",
    "    {\n",
    "        'name': 'Kourtney Kardashian',\n",
    "        'follower_count': 90,\n",
    "        'description': 'Reality TV personality',\n",
    "        'country': 'United States'\n",
    "    },\n",
    "    {\n",
    "        'name': 'Kevin Hart',\n",
    "        'follower_count': 89,\n",
    "        'description': 'Comedian and actor',\n",
    "        'country': 'United States'\n",
    "    },\n",
    "    {\n",
    "        'name': 'Ellen DeGeneres',\n",
    "        'follower_count': 87,\n",
    "        'description': 'Comedian',\n",
    "        'country': 'United States'\n",
    "    },\n",
    "    {\n",
    "        'name': 'Real Madrid CF',\n",
    "        'follower_count': 86,\n",
    "        'description': 'Football club',\n",
    "        'country': 'Spain'\n",
    "    },\n",
    "    {\n",
    "        'name': 'FC Barcelona',\n",
    "        'follower_count': 85,\n",
    "        'description': 'Football club',\n",
    "        'country': 'Spain'\n",
    "    },\n",
    "    {\n",
    "        'name': 'Rihanna',\n",
    "        'follower_count': 81,\n",
    "        'description': 'Musician and businesswoman',\n",
    "        'country': 'Barbados'\n",
    "    },\n",
    "    {\n",
    "        'name': 'Demi Lovato',\n",
    "        'follower_count': 80,\n",
    "        'description': 'Musician and actress',\n",
    "        'country': 'United States'\n",
    "    },\n",
    "    {\n",
    "        'name': \"Victoria's Secret\",\n",
    "        'follower_count': 69,\n",
    "        'description': 'Lingerie brand',\n",
    "        'country': 'United States'\n",
    "    },\n",
    "    {\n",
    "        'name': 'Zendaya',\n",
    "        'follower_count': 68,\n",
    "        'description': 'Actress and musician',\n",
    "        'country': 'United States'\n",
    "    },\n",
    "    {\n",
    "        'name': 'Shakira',\n",
    "        'follower_count': 66,\n",
    "        'description': 'Musician',\n",
    "        'country': 'Colombia'\n",
    "    },\n",
    "    {\n",
    "        'name': 'Drake',\n",
    "        'follower_count': 65,\n",
    "        'description': 'Musician',\n",
    "        'country': 'Canada'\n",
    "    },\n",
    "    {\n",
    "        'name': 'Chris Brown',\n",
    "        'follower_count': 64,\n",
    "        'description': 'Musician',\n",
    "        'country': 'United States'\n",
    "    },\n",
    "    {\n",
    "        'name': 'LeBron James',\n",
    "        'follower_count': 63,\n",
    "        'description': 'Basketball player',\n",
    "        'country': 'United States'\n",
    "    },\n",
    "    {\n",
    "        'name': 'Vin Diesel',\n",
    "        'follower_count': 62,\n",
    "        'description': 'Actor',\n",
    "        'country': 'United States'\n",
    "    },\n",
    "    {\n",
    "        'name': 'Cardi B',\n",
    "        'follower_count': 67,\n",
    "        'description': 'Musician',\n",
    "        'country': 'United States'\n",
    "    },\n",
    "    {\n",
    "        'name': 'David Beckham',\n",
    "        'follower_count': 82,\n",
    "        'description': 'Footballer',\n",
    "        'country': 'United Kingdom'\n",
    "    },\n",
    "    {\n",
    "        'name': 'Billie Eilish',\n",
    "        'follower_count': 61,\n",
    "        'description': 'Musician',\n",
    "        'country': 'United States'\n",
    "    },\n",
    "    {\n",
    "        'name': 'Justin Timberlake',\n",
    "        'follower_count': 59,\n",
    "        'description': 'Musician and actor',\n",
    "        'country': 'United States'\n",
    "    },\n",
    "    {\n",
    "        'name': 'UEFA Champions League',\n",
    "        'follower_count': 58,\n",
    "        'description': 'Club football competition',\n",
    "        'country': 'Europe'\n",
    "    },\n",
    "    {\n",
    "        'name': 'NASA',\n",
    "        'follower_count': 56,\n",
    "        'description': 'Space agency',\n",
    "        'country': 'United States'\n",
    "    },\n",
    "    {\n",
    "        'name': 'Emma Watson',\n",
    "        'follower_count': 56,\n",
    "        'description': 'Actress',\n",
    "        'country': 'United Kingdom'\n",
    "    },\n",
    "    {\n",
    "        'name': 'Shawn Mendes',\n",
    "        'follower_count': 57,\n",
    "        'description': 'Musician',\n",
    "        'country': 'Canada'\n",
    "    },\n",
    "    {\n",
    "        'name': 'Virat Kohli',\n",
    "        'follower_count': 55,\n",
    "        'description': 'Cricketer',\n",
    "        'country': 'India'\n",
    "    },\n",
    "    {\n",
    "        'name': 'Gigi Hadid',\n",
    "        'follower_count': 54,\n",
    "        'description': 'Model',\n",
    "        'country': 'United States'\n",
    "    },\n",
    "    {\n",
    "        'name': 'Priyanka Chopra Jonas',\n",
    "        'follower_count': 53,\n",
    "        'description': 'Actress and musician',\n",
    "        'country': 'India'\n",
    "    },\n",
    "    {\n",
    "        'name': '9GAG',\n",
    "        'follower_count': 52,\n",
    "        'description': 'Social media platform',\n",
    "        'country': 'China'\n",
    "    },\n",
    "    {\n",
    "        'name': 'Ronaldinho',\n",
    "        'follower_count': 51,\n",
    "        'description': 'Footballer',\n",
    "        'country': 'Brasil'\n",
    "    },\n",
    "    {\n",
    "        'name': 'Maluma',\n",
    "        'follower_count': 50,\n",
    "        'description': 'Musician',\n",
    "        'country': 'Colombia'\n",
    "    },\n",
    "    {\n",
    "        'name': 'Camila Cabello',\n",
    "        'follower_count': 49,\n",
    "        'description': 'Musician',\n",
    "        'country': 'Cuba'\n",
    "    },\n",
    "    {\n",
    "        'name': 'NBA',\n",
    "        'follower_count': 47,\n",
    "        'description': 'Club Basketball Competition',\n",
    "        'country': 'United States'\n",
    "    }\n",
    "]\n"
   ]
  },
  {
   "cell_type": "code",
   "execution_count": 2,
   "metadata": {},
   "outputs": [
    {
     "ename": "NameError",
     "evalue": "name 'data' is not defined",
     "output_type": "error",
     "traceback": [
      "\u001b[1;31m---------------------------------------------------------------------------\u001b[0m",
      "\u001b[1;31mNameError\u001b[0m                                 Traceback (most recent call last)",
      "Cell \u001b[1;32mIn [2], line 1\u001b[0m\n\u001b[1;32m----> 1\u001b[0m data[\u001b[39m49\u001b[39m]\n",
      "\u001b[1;31mNameError\u001b[0m: name 'data' is not defined"
     ]
    }
   ],
   "source": [
    "data[49]"
   ]
  },
  {
   "cell_type": "code",
   "execution_count": 4,
   "metadata": {},
   "outputs": [
    {
     "name": "stdout",
     "output_type": "stream",
     "text": [
      "Compare A :Justin Timberlake ,Musician and actor from United States \n",
      "Compare B :Shawn Mendes ,Musician from Canada \n",
      "Yipee! Correct answer :D  !! your current score : 1\n",
      "Compare A :Victoria's Secret ,Lingerie brand from United States \n",
      "Compare B :Ronaldinho ,Footballer from Brasil \n",
      "Yipee! Correct answer :D  !! your current score : 2\n",
      "Compare A :LeBron James ,Basketball player from United States \n",
      "Compare B :Rihanna ,Musician and businesswoman from Barbados \n",
      "Oops !! wrong answer :( !!  your current score: 2\n",
      "Compare A :Demi Lovato ,Musician and actress from United States \n",
      "Compare B :Cristiano Ronaldo ,Footballer from Portugal \n",
      "Oops !! wrong answer :( !!  your current score: 2\n",
      "Compare A :Nicki Minaj ,Musician from Trinidad and Tobago \n",
      "Compare B :National Geographic ,Magazine from United States \n",
      "Oops !! wrong answer :( !!  your current score: 2\n",
      "Your final score is : 2\n"
     ]
    }
   ],
   "source": [
    "import random \n",
    "\n",
    "# print(f\"new data shows {data[a_guess]['name']}\")\n",
    "# print(data[b_guess]['name'])\n",
    "\n",
    "gameon = True\n",
    "Final_score = 0 \n",
    "while gameon:\n",
    "    a_guess=int(random.randint(1,49))\n",
    "    b_guess=int(random.randint(1,49))\n",
    "    print(f\"Compare A :{data[a_guess]['name']} ,{data[a_guess]['description']} from {data[a_guess]['country']} \")\n",
    "    print(f\"Compare B :{data[b_guess]['name']} ,{data[b_guess]['description']} from {data[b_guess]['country']} \")\n",
    "    guess = input('Who has more number of follower A / B')\n",
    "    if data[a_guess]['follower_count'] > data[b_guess]['follower_count']:\n",
    "        bigger_count='A'\n",
    "    else : \n",
    "        bigger_count='B' \n",
    "    if guess.upper()==bigger_count:\n",
    "        Final_score+=1\n",
    "        print(f\"Yipee! Correct answer :D  !! your current score : {Final_score}\")\n",
    "        \n",
    "    else : \n",
    "        print(f'Oops !! wrong answer :( !!  your current score: {Final_score}')\n",
    "        \n",
    "    cont_play = input('would you like to play more ? Y/N')\n",
    "    if cont_play.upper()=='N':\n",
    "        print(f'Your final score is : {Final_score}')\n",
    "        gameon=False\n",
    "        break\n",
    "    else : \n",
    "        continue"
   ]
  }
 ],
 "metadata": {
  "kernelspec": {
   "display_name": "Python 3",
   "language": "python",
   "name": "python3"
  },
  "language_info": {
   "codemirror_mode": {
    "name": "ipython",
    "version": 3
   },
   "file_extension": ".py",
   "mimetype": "text/x-python",
   "name": "python",
   "nbconvert_exporter": "python",
   "pygments_lexer": "ipython3",
   "version": "3.11.0"
  },
  "orig_nbformat": 4,
  "vscode": {
   "interpreter": {
    "hash": "7628b07a3a51c70260548198f4a647126e45e1b5569db36c84b617ddd080a90f"
   }
  }
 },
 "nbformat": 4,
 "nbformat_minor": 2
}
